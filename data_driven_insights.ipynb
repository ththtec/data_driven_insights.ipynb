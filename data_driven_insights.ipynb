{
  "nbformat": 4,
  "nbformat_minor": 0,
  "metadata": {
    "colab": {
      "provenance": [],
      "authorship_tag": "ABX9TyP1FNParIe3hcwS7syFbJqM",
      "include_colab_link": true
    },
    "kernelspec": {
      "name": "python3",
      "display_name": "Python 3"
    },
    "language_info": {
      "name": "python"
    }
  },
  "cells": [
    {
      "cell_type": "markdown",
      "metadata": {
        "id": "view-in-github",
        "colab_type": "text"
      },
      "source": [
        "<a href=\"https://colab.research.google.com/github/ththtec/data_driven_insights.ipynb/blob/main/data_driven_insights.ipynb\" target=\"_parent\"><img src=\"https://colab.research.google.com/assets/colab-badge.svg\" alt=\"Open In Colab\"/></a>"
      ]
    },
    {
      "cell_type": "code",
      "execution_count": null,
      "metadata": {
        "id": "EVY3WR6zy0_X"
      },
      "outputs": [],
      "source": []
    },
    {
      "cell_type": "markdown",
      "source": [
        "#📘 Instrução – Mini Projeto: Data-Driven Insights (Módulo 01)\n",
        "🧑‍💻 Projeto\n",
        "Projeto prático de exploração e visualização de dados com Python no Google Colab, utilizando a base Sample Sales Datano, formato .csv.\n",
        "\n",
        "https://www.kaggle.com/datasets/kyanyoga/sample-sales-data\n",
        "\n",
        "#🎯 Objetivo\n",
        "Explorar, transformar e visualizar dados com base em estruturas do Python e bibliotecas como pandas, numpy e matplotlib, gerando insights descritivos a partir da análise."
      ],
      "metadata": {
        "id": "BQ0pvKAty9W8"
      }
    },
    {
      "cell_type": "markdown",
      "source": [
        "#1. 📂Importando as bibliotecas"
      ],
      "metadata": {
        "id": "vaGqekel0j2k"
      }
    },
    {
      "cell_type": "code",
      "source": [
        "%pip install pandas\n",
        "%pip install matplotlib"
      ],
      "metadata": {
        "colab": {
          "base_uri": "https://localhost:8080/"
        },
        "id": "Yta2HIHbzByY",
        "outputId": "2651adcd-46bb-4262-c5c0-cbbe7c84177e"
      },
      "execution_count": 1,
      "outputs": [
        {
          "output_type": "stream",
          "name": "stdout",
          "text": [
            "Requirement already satisfied: pandas in /usr/local/lib/python3.11/dist-packages (2.2.2)\n",
            "Requirement already satisfied: numpy>=1.23.2 in /usr/local/lib/python3.11/dist-packages (from pandas) (2.0.2)\n",
            "Requirement already satisfied: python-dateutil>=2.8.2 in /usr/local/lib/python3.11/dist-packages (from pandas) (2.9.0.post0)\n",
            "Requirement already satisfied: pytz>=2020.1 in /usr/local/lib/python3.11/dist-packages (from pandas) (2025.2)\n",
            "Requirement already satisfied: tzdata>=2022.7 in /usr/local/lib/python3.11/dist-packages (from pandas) (2025.2)\n",
            "Requirement already satisfied: six>=1.5 in /usr/local/lib/python3.11/dist-packages (from python-dateutil>=2.8.2->pandas) (1.17.0)\n",
            "Requirement already satisfied: matplotlib in /usr/local/lib/python3.11/dist-packages (3.10.0)\n",
            "Requirement already satisfied: contourpy>=1.0.1 in /usr/local/lib/python3.11/dist-packages (from matplotlib) (1.3.2)\n",
            "Requirement already satisfied: cycler>=0.10 in /usr/local/lib/python3.11/dist-packages (from matplotlib) (0.12.1)\n",
            "Requirement already satisfied: fonttools>=4.22.0 in /usr/local/lib/python3.11/dist-packages (from matplotlib) (4.59.0)\n",
            "Requirement already satisfied: kiwisolver>=1.3.1 in /usr/local/lib/python3.11/dist-packages (from matplotlib) (1.4.8)\n",
            "Requirement already satisfied: numpy>=1.23 in /usr/local/lib/python3.11/dist-packages (from matplotlib) (2.0.2)\n",
            "Requirement already satisfied: packaging>=20.0 in /usr/local/lib/python3.11/dist-packages (from matplotlib) (25.0)\n",
            "Requirement already satisfied: pillow>=8 in /usr/local/lib/python3.11/dist-packages (from matplotlib) (11.2.1)\n",
            "Requirement already satisfied: pyparsing>=2.3.1 in /usr/local/lib/python3.11/dist-packages (from matplotlib) (3.2.3)\n",
            "Requirement already satisfied: python-dateutil>=2.7 in /usr/local/lib/python3.11/dist-packages (from matplotlib) (2.9.0.post0)\n",
            "Requirement already satisfied: six>=1.5 in /usr/local/lib/python3.11/dist-packages (from python-dateutil>=2.7->matplotlib) (1.17.0)\n"
          ]
        }
      ]
    },
    {
      "cell_type": "code",
      "source": [
        "import pandas as pd\n",
        "import numpy as np\n",
        "import matplotlib.pyplot as plt"
      ],
      "metadata": {
        "id": "bDMwnDEMzE4D"
      },
      "execution_count": 8,
      "outputs": []
    },
    {
      "cell_type": "markdown",
      "source": [
        "#2. 📝 Leitura e Exploração Inicial da Base\n",
        "\n",
        "---\n",
        "\n"
      ],
      "metadata": {
        "id": "imPsyEXB0hQh"
      }
    },
    {
      "cell_type": "code",
      "source": [
        "from google.colab import files\n",
        "uploaded = files.upload()"
      ],
      "metadata": {
        "colab": {
          "base_uri": "https://localhost:8080/",
          "height": 71
        },
        "id": "bXAQlAmP0FhN",
        "outputId": "4a1b0350-064f-4316-f961-531efe551177"
      },
      "execution_count": 10,
      "outputs": [
        {
          "output_type": "display_data",
          "data": {
            "text/plain": [
              "<IPython.core.display.HTML object>"
            ],
            "text/html": [
              "\n",
              "     <input type=\"file\" id=\"files-6606de78-e32f-49c8-8f34-4c5e835dccd1\" name=\"files[]\" multiple disabled\n",
              "        style=\"border:none\" />\n",
              "     <output id=\"result-6606de78-e32f-49c8-8f34-4c5e835dccd1\">\n",
              "      Upload widget is only available when the cell has been executed in the\n",
              "      current browser session. Please rerun this cell to enable.\n",
              "      </output>\n",
              "      <script>// Copyright 2017 Google LLC\n",
              "//\n",
              "// Licensed under the Apache License, Version 2.0 (the \"License\");\n",
              "// you may not use this file except in compliance with the License.\n",
              "// You may obtain a copy of the License at\n",
              "//\n",
              "//      http://www.apache.org/licenses/LICENSE-2.0\n",
              "//\n",
              "// Unless required by applicable law or agreed to in writing, software\n",
              "// distributed under the License is distributed on an \"AS IS\" BASIS,\n",
              "// WITHOUT WARRANTIES OR CONDITIONS OF ANY KIND, either express or implied.\n",
              "// See the License for the specific language governing permissions and\n",
              "// limitations under the License.\n",
              "\n",
              "/**\n",
              " * @fileoverview Helpers for google.colab Python module.\n",
              " */\n",
              "(function(scope) {\n",
              "function span(text, styleAttributes = {}) {\n",
              "  const element = document.createElement('span');\n",
              "  element.textContent = text;\n",
              "  for (const key of Object.keys(styleAttributes)) {\n",
              "    element.style[key] = styleAttributes[key];\n",
              "  }\n",
              "  return element;\n",
              "}\n",
              "\n",
              "// Max number of bytes which will be uploaded at a time.\n",
              "const MAX_PAYLOAD_SIZE = 100 * 1024;\n",
              "\n",
              "function _uploadFiles(inputId, outputId) {\n",
              "  const steps = uploadFilesStep(inputId, outputId);\n",
              "  const outputElement = document.getElementById(outputId);\n",
              "  // Cache steps on the outputElement to make it available for the next call\n",
              "  // to uploadFilesContinue from Python.\n",
              "  outputElement.steps = steps;\n",
              "\n",
              "  return _uploadFilesContinue(outputId);\n",
              "}\n",
              "\n",
              "// This is roughly an async generator (not supported in the browser yet),\n",
              "// where there are multiple asynchronous steps and the Python side is going\n",
              "// to poll for completion of each step.\n",
              "// This uses a Promise to block the python side on completion of each step,\n",
              "// then passes the result of the previous step as the input to the next step.\n",
              "function _uploadFilesContinue(outputId) {\n",
              "  const outputElement = document.getElementById(outputId);\n",
              "  const steps = outputElement.steps;\n",
              "\n",
              "  const next = steps.next(outputElement.lastPromiseValue);\n",
              "  return Promise.resolve(next.value.promise).then((value) => {\n",
              "    // Cache the last promise value to make it available to the next\n",
              "    // step of the generator.\n",
              "    outputElement.lastPromiseValue = value;\n",
              "    return next.value.response;\n",
              "  });\n",
              "}\n",
              "\n",
              "/**\n",
              " * Generator function which is called between each async step of the upload\n",
              " * process.\n",
              " * @param {string} inputId Element ID of the input file picker element.\n",
              " * @param {string} outputId Element ID of the output display.\n",
              " * @return {!Iterable<!Object>} Iterable of next steps.\n",
              " */\n",
              "function* uploadFilesStep(inputId, outputId) {\n",
              "  const inputElement = document.getElementById(inputId);\n",
              "  inputElement.disabled = false;\n",
              "\n",
              "  const outputElement = document.getElementById(outputId);\n",
              "  outputElement.innerHTML = '';\n",
              "\n",
              "  const pickedPromise = new Promise((resolve) => {\n",
              "    inputElement.addEventListener('change', (e) => {\n",
              "      resolve(e.target.files);\n",
              "    });\n",
              "  });\n",
              "\n",
              "  const cancel = document.createElement('button');\n",
              "  inputElement.parentElement.appendChild(cancel);\n",
              "  cancel.textContent = 'Cancel upload';\n",
              "  const cancelPromise = new Promise((resolve) => {\n",
              "    cancel.onclick = () => {\n",
              "      resolve(null);\n",
              "    };\n",
              "  });\n",
              "\n",
              "  // Wait for the user to pick the files.\n",
              "  const files = yield {\n",
              "    promise: Promise.race([pickedPromise, cancelPromise]),\n",
              "    response: {\n",
              "      action: 'starting',\n",
              "    }\n",
              "  };\n",
              "\n",
              "  cancel.remove();\n",
              "\n",
              "  // Disable the input element since further picks are not allowed.\n",
              "  inputElement.disabled = true;\n",
              "\n",
              "  if (!files) {\n",
              "    return {\n",
              "      response: {\n",
              "        action: 'complete',\n",
              "      }\n",
              "    };\n",
              "  }\n",
              "\n",
              "  for (const file of files) {\n",
              "    const li = document.createElement('li');\n",
              "    li.append(span(file.name, {fontWeight: 'bold'}));\n",
              "    li.append(span(\n",
              "        `(${file.type || 'n/a'}) - ${file.size} bytes, ` +\n",
              "        `last modified: ${\n",
              "            file.lastModifiedDate ? file.lastModifiedDate.toLocaleDateString() :\n",
              "                                    'n/a'} - `));\n",
              "    const percent = span('0% done');\n",
              "    li.appendChild(percent);\n",
              "\n",
              "    outputElement.appendChild(li);\n",
              "\n",
              "    const fileDataPromise = new Promise((resolve) => {\n",
              "      const reader = new FileReader();\n",
              "      reader.onload = (e) => {\n",
              "        resolve(e.target.result);\n",
              "      };\n",
              "      reader.readAsArrayBuffer(file);\n",
              "    });\n",
              "    // Wait for the data to be ready.\n",
              "    let fileData = yield {\n",
              "      promise: fileDataPromise,\n",
              "      response: {\n",
              "        action: 'continue',\n",
              "      }\n",
              "    };\n",
              "\n",
              "    // Use a chunked sending to avoid message size limits. See b/62115660.\n",
              "    let position = 0;\n",
              "    do {\n",
              "      const length = Math.min(fileData.byteLength - position, MAX_PAYLOAD_SIZE);\n",
              "      const chunk = new Uint8Array(fileData, position, length);\n",
              "      position += length;\n",
              "\n",
              "      const base64 = btoa(String.fromCharCode.apply(null, chunk));\n",
              "      yield {\n",
              "        response: {\n",
              "          action: 'append',\n",
              "          file: file.name,\n",
              "          data: base64,\n",
              "        },\n",
              "      };\n",
              "\n",
              "      let percentDone = fileData.byteLength === 0 ?\n",
              "          100 :\n",
              "          Math.round((position / fileData.byteLength) * 100);\n",
              "      percent.textContent = `${percentDone}% done`;\n",
              "\n",
              "    } while (position < fileData.byteLength);\n",
              "  }\n",
              "\n",
              "  // All done.\n",
              "  yield {\n",
              "    response: {\n",
              "      action: 'complete',\n",
              "    }\n",
              "  };\n",
              "}\n",
              "\n",
              "scope.google = scope.google || {};\n",
              "scope.google.colab = scope.google.colab || {};\n",
              "scope.google.colab._files = {\n",
              "  _uploadFiles,\n",
              "  _uploadFilesContinue,\n",
              "};\n",
              "})(self);\n",
              "</script> "
            ]
          },
          "metadata": {}
        },
        {
          "output_type": "stream",
          "name": "stdout",
          "text": [
            "Saving sales_data_sample.csv to sales_data_sample (2).csv\n"
          ]
        }
      ]
    },
    {
      "cell_type": "code",
      "source": [
        "df = pd.read_csv('sales_data_sample (2).csv', encoding='latin-1')"
      ],
      "metadata": {
        "id": "B1hCiCmdzFZR"
      },
      "execution_count": 14,
      "outputs": []
    },
    {
      "cell_type": "code",
      "source": [
        "#Exibe as 5 primeiras linhas do df"
      ],
      "metadata": {
        "colab": {
          "base_uri": "https://localhost:8080/"
        },
        "id": "YFy9YHrmzIDl",
        "outputId": "de8c0fa0-5078-4249-dd9a-550795203ed2"
      },
      "execution_count": 131,
      "outputs": [
        {
          "output_type": "stream",
          "name": "stdout",
          "text": [
            "   ORDERNUMBER  QUANTITYORDERED  PRICEEACH  ORDERLINENUMBER    SALES  \\\n",
            "0        10107               30      95.70                2  2871.00   \n",
            "1        10121               34      81.35                5  2765.90   \n",
            "2        10134               41      94.74                2  3884.34   \n",
            "3        10145               45      83.26                6  3746.70   \n",
            "4        10159               49     100.00               14  5205.27   \n",
            "\n",
            "         ORDERDATE   STATUS  QTR_ID  MONTH_ID  YEAR_ID  ...           CITY  \\\n",
            "0   2/24/2003 0:00  Shipped       1         2     2003  ...            NYC   \n",
            "1    5/7/2003 0:00  Shipped       2         5     2003  ...          Reims   \n",
            "2    7/1/2003 0:00  Shipped       3         7     2003  ...          Paris   \n",
            "3   8/25/2003 0:00  Shipped       3         8     2003  ...       Pasadena   \n",
            "4  10/10/2003 0:00  Shipped       4        10     2003  ...  San Francisco   \n",
            "\n",
            "   STATE POSTALCODE COUNTRY TERRITORY CONTACTLASTNAME CONTACTFIRSTNAME  \\\n",
            "0     NY      10022     USA       NaN              Yu             Kwai   \n",
            "1    NaN      51100  France      EMEA         Henriot             Paul   \n",
            "2    NaN      75508  France      EMEA        Da Cunha           Daniel   \n",
            "3     CA      90003     USA       NaN           Young            Julie   \n",
            "4     CA        NaN     USA       NaN           Brown            Julie   \n",
            "\n",
            "  DEALSIZE Multiplicacao Diferenca  \n",
            "0    Small       2871.00      0.00  \n",
            "1    Small       2765.90      0.00  \n",
            "2   Medium       3884.34      0.00  \n",
            "3   Medium       3746.70     -0.00  \n",
            "4   Medium       4900.00    305.27  \n",
            "\n",
            "[5 rows x 27 columns]\n"
          ]
        }
      ]
    },
    {
      "cell_type": "code",
      "source": [
        "#Exibe o número de linhas e colunas do df\n",
        "print(df.shape)"
      ],
      "metadata": {
        "colab": {
          "base_uri": "https://localhost:8080/"
        },
        "id": "-KvxnpPtzL4H",
        "outputId": "0b5b36bc-ec9d-41cb-8770-71ca7f054a9e"
      },
      "execution_count": 132,
      "outputs": [
        {
          "output_type": "stream",
          "name": "stdout",
          "text": [
            "(2823, 27)\n"
          ]
        }
      ]
    },
    {
      "cell_type": "code",
      "source": [
        "## Exibe os nomes de todas as colunas do df\n",
        "print(df.columns)"
      ],
      "metadata": {
        "colab": {
          "base_uri": "https://localhost:8080/"
        },
        "id": "2JcjCxYkzN8N",
        "outputId": "d5999637-8268-4a0f-9a8d-2ae0a190e0b3"
      },
      "execution_count": 133,
      "outputs": [
        {
          "output_type": "stream",
          "name": "stdout",
          "text": [
            "Index(['ORDERNUMBER', 'QUANTITYORDERED', 'PRICEEACH', 'ORDERLINENUMBER',\n",
            "       'SALES', 'ORDERDATE', 'STATUS', 'QTR_ID', 'MONTH_ID', 'YEAR_ID',\n",
            "       'PRODUCTLINE', 'MSRP', 'PRODUCTCODE', 'CUSTOMERNAME', 'PHONE',\n",
            "       'ADDRESSLINE1', 'ADDRESSLINE2', 'CITY', 'STATE', 'POSTALCODE',\n",
            "       'COUNTRY', 'TERRITORY', 'CONTACTLASTNAME', 'CONTACTFIRSTNAME',\n",
            "       'DEALSIZE', 'Multiplicacao', 'Diferenca'],\n",
            "      dtype='object')\n"
          ]
        }
      ]
    },
    {
      "cell_type": "code",
      "source": [
        "#Retorna os tipos de dados do df\n",
        "#o df não possui dados do tipo bool(booleano)\n",
        "print(df.dtypes)\n"
      ],
      "metadata": {
        "colab": {
          "base_uri": "https://localhost:8080/"
        },
        "id": "lICfL8zV0_yG",
        "outputId": "2dca861e-903b-438f-9939-7498d2681408"
      },
      "execution_count": 135,
      "outputs": [
        {
          "output_type": "stream",
          "name": "stdout",
          "text": [
            "ORDERNUMBER           int64\n",
            "QUANTITYORDERED       int64\n",
            "PRICEEACH           float64\n",
            "ORDERLINENUMBER       int64\n",
            "SALES               float64\n",
            "ORDERDATE            object\n",
            "STATUS               object\n",
            "QTR_ID                int64\n",
            "MONTH_ID              int64\n",
            "YEAR_ID               int64\n",
            "PRODUCTLINE          object\n",
            "MSRP                  int64\n",
            "PRODUCTCODE          object\n",
            "CUSTOMERNAME         object\n",
            "PHONE                object\n",
            "ADDRESSLINE1         object\n",
            "ADDRESSLINE2         object\n",
            "CITY                 object\n",
            "STATE                object\n",
            "POSTALCODE           object\n",
            "COUNTRY              object\n",
            "TERRITORY            object\n",
            "CONTACTLASTNAME      object\n",
            "CONTACTFIRSTNAME     object\n",
            "DEALSIZE             object\n",
            "Multiplicacao       float64\n",
            "Diferenca           float64\n",
            "dtype: object\n"
          ]
        }
      ]
    },
    {
      "cell_type": "code",
      "source": [
        "#Conta quantas vezes cada tipo de dado aparece no df\n",
        "print(df.dtypes.value_counts())"
      ],
      "metadata": {
        "colab": {
          "base_uri": "https://localhost:8080/"
        },
        "id": "5N7D9NZgWrgk",
        "outputId": "4ca6e3c4-fee3-450e-8ae9-de13b8db8e77"
      },
      "execution_count": 136,
      "outputs": [
        {
          "output_type": "stream",
          "name": "stdout",
          "text": [
            "object     16\n",
            "int64       7\n",
            "float64     4\n",
            "Name: count, dtype: int64\n"
          ]
        }
      ]
    },
    {
      "cell_type": "markdown",
      "source": [
        "\n",
        "| Tipo de dado | Quantidade de colunas |                 \n",
        "|--------------|------------------------|\n",
        "| 🔤 `object`  | 16                     |\n",
        "| 🔢 `int64`   | 7                      |\n",
        "| 🔬 `float64` | 4                      |\n",
        "\n",
        "> Total de colunas: **27** (df.shape)\n"
      ],
      "metadata": {
        "id": "IoYr_YEjYzch"
      }
    },
    {
      "cell_type": "markdown",
      "source": [
        "#Insights\n",
        "\n",
        "A base utilizada possui um total de 2.823 registros e 27 colunas. Em df.head(), possuimos dados de pedidos, valores de vendas, datas, códigos postais, status de envio de produtos e muito mais. Dos tipos de dados temos que 16 atributos  object, 7 int64, 4 float64, configurando que os campos são categorias, datas e números."
      ],
      "metadata": {
        "id": "YbGkadsjWcAP"
      }
    },
    {
      "cell_type": "markdown",
      "source": [
        "#3. 📚Listas, Dicionários e Tuplas"
      ],
      "metadata": {
        "id": "Tcd_Duh81Orj"
      }
    },
    {
      "cell_type": "code",
      "source": [
        "# Lista: Países para onde foram realizadas vendas\n",
        "nomes = list(df['COUNTRY'])\n",
        "for nome in nomes[:5]:\n",
        "    print(nome)"
      ],
      "metadata": {
        "colab": {
          "base_uri": "https://localhost:8080/"
        },
        "id": "lzLuKzU_1P0Y",
        "outputId": "957a5bf1-14ab-48e1-d1f4-be987fa9a2a4"
      },
      "execution_count": 20,
      "outputs": [
        {
          "output_type": "stream",
          "name": "stdout",
          "text": [
            "USA\n",
            "France\n",
            "France\n",
            "USA\n",
            "USA\n"
          ]
        }
      ]
    },
    {
      "cell_type": "code",
      "source": [
        "# Dicionário: Primeiro nome e País dos Clientes\n",
        "dicionario = dict(zip(df['CONTACTFIRSTNAME'][:3], df['COUNTRY'][:3]))\n",
        "print(dicionario)"
      ],
      "metadata": {
        "colab": {
          "base_uri": "https://localhost:8080/"
        },
        "id": "nRL-8p2C1_uo",
        "outputId": "0539e0b7-2338-497d-b3b1-8721e0443985"
      },
      "execution_count": 26,
      "outputs": [
        {
          "output_type": "stream",
          "name": "stdout",
          "text": [
            "{'Kwai': 'USA', 'Paul': 'France', 'Daniel': 'France', 'Julie': 'USA'}\n"
          ]
        }
      ]
    },
    {
      "cell_type": "code",
      "source": [
        "# Tupla: retorna o PAÍS/ESTADO/CODIGO POSTAL\n",
        "linha0 = df.iloc[0]\n",
        "minha_tupla = (linha0['COUNTRY'], linha0['STATE'], linha0['POSTALCODE'])\n",
        "print(minha_tupla)"
      ],
      "metadata": {
        "colab": {
          "base_uri": "https://localhost:8080/"
        },
        "id": "6kEgsnuT2laH",
        "outputId": "178ff1d9-0b4e-49b0-d9e7-d177e925f6c1"
      },
      "execution_count": 27,
      "outputs": [
        {
          "output_type": "stream",
          "name": "stdout",
          "text": [
            "('USA', 'NY', '10022')\n"
          ]
        }
      ]
    },
    {
      "cell_type": "markdown",
      "source": [
        "#Insights\n",
        "\n",
        "Na observação, em lista, dos 5 primeiros registros percebe-se a forte presença dos EUA na clientela. No dicionário, verificamos a relação cliente x País, e em Tupla, observamos a relação PAÍS/ESTADO/CODIGO POSTAL."
      ],
      "metadata": {
        "id": "M2AaAdTwZg8q"
      }
    },
    {
      "cell_type": "markdown",
      "source": [
        "#4.  🧠 Estruturas Condicionais e Laços"
      ],
      "metadata": {
        "id": "iezlGft233Sk"
      }
    },
    {
      "cell_type": "code",
      "source": [
        "# Analise da quantidade de pedidos\n",
        "coluna_numerica = 'QUANTITYORDERED'\n",
        "primeiro_valor = df[coluna_numerica][0]\n"
      ],
      "metadata": {
        "id": "cSj58mDT33BN"
      },
      "execution_count": 140,
      "outputs": []
    },
    {
      "cell_type": "code",
      "source": [
        "#Base para comparações:\n",
        "media = df['QUANTITYORDERED'].mean()\n",
        "print(\"Média da QUANTITYORDERED:\", media)\n"
      ],
      "metadata": {
        "colab": {
          "base_uri": "https://localhost:8080/"
        },
        "id": "wqzYCrNS7Kqj",
        "outputId": "c28a4630-81ef-438d-8456-d3550c4ffba4"
      },
      "execution_count": 141,
      "outputs": [
        {
          "output_type": "stream",
          "name": "stdout",
          "text": [
            "Média da QUANTITYORDERED: 35.09280906836698\n"
          ]
        }
      ]
    },
    {
      "cell_type": "code",
      "source": [
        "#Condicional baseada na média da Quantidade de Pedidos para determinar a classificação com base no volume\n",
        "if primeiro_valor > 35:\n",
        "    print(\"Valor alto\")\n",
        "elif primeiro_valor > 5:\n",
        "    print(\"Valor intermediário\")\n",
        "else:\n",
        "    print(\"Valor baixo\")"
      ],
      "metadata": {
        "colab": {
          "base_uri": "https://localhost:8080/"
        },
        "id": "HZO1mcRM4QV_",
        "outputId": "4603ceee-f2f5-41f0-e105-e9704b549f09"
      },
      "execution_count": 142,
      "outputs": [
        {
          "output_type": "stream",
          "name": "stdout",
          "text": [
            "Valor intermediário\n"
          ]
        }
      ]
    },
    {
      "cell_type": "code",
      "source": [
        "# For para operar sobre n primeiros elementos de uma coluna numérica escolhida\n",
        "# Soma das 5 primeiras quantidades de pedidos\n",
        "soma = 0\n",
        "lista = list(df['QUANTITYORDERED'][:5])\n",
        "for n in lista:\n",
        "    soma += n\n",
        "print(\"Soma dos 5 primeiros valores:\", soma)"
      ],
      "metadata": {
        "colab": {
          "base_uri": "https://localhost:8080/"
        },
        "id": "r7A2RWyT58fq",
        "outputId": "0e09f8cd-a148-4be4-ec66-74b8a31e18e3"
      },
      "execution_count": 143,
      "outputs": [
        {
          "output_type": "stream",
          "name": "stdout",
          "text": [
            "Soma dos 5 primeiros valores: 199\n"
          ]
        }
      ]
    },
    {
      "cell_type": "code",
      "source": [
        "## While: Encontrar o primeiro valor maior que um certo limite, estipulado como a média total da tabela\n",
        "# Faz a análise de verificação condicional da  Quantidade de Pedidos com base na média\n",
        "limite = 35  # Ajuste conforme o contexto da coluna escolhida\n",
        "i = 0\n",
        "while i < len(lista) and lista[i] <= limite:\n",
        "    i += 1\n",
        "if i < len(lista):\n",
        "    print(\"Primeiro valor >\", limite, \"encontrado:\", lista[i])\n",
        "else:\n",
        "    print(\"Nenhum valor maior que\", limite, \"encontrado nos primeiros 5.\")"
      ],
      "metadata": {
        "colab": {
          "base_uri": "https://localhost:8080/"
        },
        "id": "qbCR252P6Onc",
        "outputId": "6d907dec-8ccb-4520-e766-0932f57b4cff"
      },
      "execution_count": 47,
      "outputs": [
        {
          "output_type": "stream",
          "name": "stdout",
          "text": [
            "Primeiro valor > 35 encontrado: 41\n"
          ]
        }
      ]
    },
    {
      "cell_type": "markdown",
      "source": [
        "#Insights\n",
        "\n",
        " O calculo da média é utilizado como referência para condicionar os valores das vendas como alto, intermediário e baixo. A soma das transações totalizam 199 unidades, sugerindo que, a o conjunto acumula uma quantidade significativa, tendo somente os 2 dos 5 primeiros itens abaixo da média de pedidos."
      ],
      "metadata": {
        "id": "F1oZSMkd7gVr"
      }
    },
    {
      "cell_type": "markdown",
      "source": [
        "#5. 🧮 Operadores Aritméticos e Manipulação de Dados"
      ],
      "metadata": {
        "id": "8rHpHKLN839i"
      }
    },
    {
      "cell_type": "code",
      "source": [
        "#Calcula o valor bruto por pedido\n",
        "#Pode visualizar descontos, impostos, ou erros de registro\n",
        "\n",
        "if 'QUANTITYORDERED' in df.columns and 'PRICEEACH' in df.columns:\n",
        "    df['Multiplicacao'] = df['QUANTITYORDERED'] * df['PRICEEACH']\n",
        "    print(df[['QUANTITYORDERED', 'PRICEEACH', 'Multiplicacao']].head())\n",
        "\n"
      ],
      "metadata": {
        "colab": {
          "base_uri": "https://localhost:8080/"
        },
        "id": "SyBdcp5D83Y4",
        "outputId": "8070a368-c332-48b6-a8d3-35119ed148dc"
      },
      "execution_count": 53,
      "outputs": [
        {
          "output_type": "stream",
          "name": "stdout",
          "text": [
            "   QUANTITYORDERED  PRICEEACH  Multiplicacao\n",
            "0               30      95.70        2871.00\n",
            "1               34      81.35        2765.90\n",
            "2               41      94.74        3884.34\n",
            "3               45      83.26        3746.70\n",
            "4               49     100.00        4900.00\n"
          ]
        }
      ]
    },
    {
      "cell_type": "code",
      "source": [
        "#Visualiza a diferença entre o valor original de venda e os valores da coluna SALES\n",
        "df['Diferenca'] = (df['SALES'] - df['Multiplicacao']).round(2)\n",
        "print(df[['SALES', 'Multiplicacao', 'Diferenca']].head())\n",
        ""
      ],
      "metadata": {
        "colab": {
          "base_uri": "https://localhost:8080/"
        },
        "id": "o8kzO7rsBc0L",
        "outputId": "847562f3-50e9-445d-d57e-eebc7dcd0b51"
      },
      "execution_count": 68,
      "outputs": [
        {
          "output_type": "stream",
          "name": "stdout",
          "text": [
            "     SALES  Multiplicacao  Diferenca\n",
            "0  2871.00        2871.00       0.00\n",
            "1  2765.90        2765.90       0.00\n",
            "2  3884.34        3884.34       0.00\n",
            "3  3746.70        3746.70      -0.00\n",
            "4  5205.27        4900.00     305.27\n"
          ]
        }
      ]
    },
    {
      "cell_type": "markdown",
      "source": [
        "#Insights\n",
        "\n",
        "Visualização de possível discrepância de valores, mas no item 4, ordem 10159, pode indicar descontos aplicados não referidos, outros valores como frete, impostos ou outros adendos como alguma  de dados e regristo. inconsistência."
      ],
      "metadata": {
        "id": "su4gSnpw-9ap"
      }
    },
    {
      "cell_type": "markdown",
      "source": [
        "#6.🔢 NumPy e Arrays Numéricos"
      ],
      "metadata": {
        "id": "jKUTby6OCslX"
      }
    },
    {
      "cell_type": "code",
      "source": [
        "# Para fins de análise em Numpy, transforma todos os valores da coluna SALES em um array NumPy\n",
        "array = np.array(df['SALES'])\n"
      ],
      "metadata": {
        "id": "y-G-q_CFC3_N"
      },
      "execution_count": 72,
      "outputs": []
    },
    {
      "cell_type": "code",
      "source": [
        "# Operações NumPy\n",
        "#Adiciona 10 unidades a cada elemento do array\n",
        "# De interesse para simular reajustes, fretes, acréscimos, impostos ou descontos\n",
        "array_somado = array + 10\n",
        "\n",
        "#Eleva ao quadrado cada valor de venda\n",
        "#De interesse estátistico\n",
        "array_quadrado = array ** 2"
      ],
      "metadata": {
        "id": "C112j6L1C7GB"
      },
      "execution_count": 147,
      "outputs": []
    },
    {
      "cell_type": "code",
      "source": [
        "#Exibe os 5 primeiros valores originais de SALES\n",
        "print(array[:5])"
      ],
      "metadata": {
        "colab": {
          "base_uri": "https://localhost:8080/"
        },
        "id": "LKk_gzbdiFit",
        "outputId": "bea73989-c9b3-435b-f8bb-f49f8678d263"
      },
      "execution_count": 145,
      "outputs": [
        {
          "output_type": "stream",
          "name": "stdout",
          "text": [
            "[2871.   2765.9  3884.34 3746.7  5205.27]\n"
          ]
        }
      ]
    },
    {
      "cell_type": "code",
      "source": [
        "#Exibe os 5 primeiros valores de SALES adicionando +10 unidades a cada elemento\n",
        "print(array_somado[:5])"
      ],
      "metadata": {
        "colab": {
          "base_uri": "https://localhost:8080/"
        },
        "id": "wGA-jIxOEN_r",
        "outputId": "615c41c8-f3f9-456b-8c23-ebfc6b04757b"
      },
      "execution_count": 82,
      "outputs": [
        {
          "output_type": "stream",
          "name": "stdout",
          "text": [
            "[2881.   2775.9  3894.34 3756.7  5215.27]\n"
          ]
        }
      ]
    },
    {
      "cell_type": "code",
      "source": [
        "#Exibe os 5 primeiros valores de SALES que contém o quadrado de cada valor\n",
        "print(array_quadrado[:5])"
      ],
      "metadata": {
        "colab": {
          "base_uri": "https://localhost:8080/"
        },
        "id": "E1aC0yFVEfPC",
        "outputId": "482171da-8fb4-4de8-89d9-762a829d0318"
      },
      "execution_count": 76,
      "outputs": [
        {
          "output_type": "stream",
          "name": "stdout",
          "text": [
            "[ 8242641.      7650202.81   15088097.2356 14037760.89   27094835.7729]\n"
          ]
        }
      ]
    },
    {
      "cell_type": "code",
      "source": [
        "#Representam o faturamento total e valor médio por pedido\n",
        "print(\"Soma dos elementos:\", array.sum())"
      ],
      "metadata": {
        "id": "fFWCIxhkEiXl"
      },
      "execution_count": 79,
      "outputs": []
    },
    {
      "cell_type": "code",
      "source": [
        "#A média indica que cada transação gera cerca de R$ 3.553,89\n",
        "print(\"Média dos elementos:\", array.mean())"
      ],
      "metadata": {
        "colab": {
          "base_uri": "https://localhost:8080/"
        },
        "id": "8JuuqTqdEj6K",
        "outputId": "f308dae5-9d65-4665-b837-e39f1b07c361"
      },
      "execution_count": 81,
      "outputs": [
        {
          "output_type": "stream",
          "name": "stdout",
          "text": [
            "Média dos elementos: 3553.889071909316\n"
          ]
        }
      ]
    },
    {
      "cell_type": "markdown",
      "source": [
        "#Insights\n",
        "A análise com Python e NumPy revela que o valor médio de cada venda é de R$ 3.553,89.E cálculos em massa, como simular acréscimos (adicionando 10 unidades a cada venda) e realizar análises estatísticas (elevando os valores ao quadrado) de forma rápida e direta."
      ],
      "metadata": {
        "id": "7QnGrMWIj96Q"
      }
    },
    {
      "cell_type": "markdown",
      "source": [
        "#7. 📈 Acesso e Manipulação de Dados com Pandas"
      ],
      "metadata": {
        "id": "cUZxEbnbFLHv"
      }
    },
    {
      "cell_type": "code",
      "source": [
        "# Usando .loc: Selecionar colunas específicas e linhas com QUANTITYORDERED > 35\n",
        "#Filtra linhas onde a coluna 'QUANTITYORDERED' é maior que 35\n",
        "df_filtrado = df.loc[df['QUANTITYORDERED'] > 35, ['ORDERNUMBER', 'QUANTITYORDERED', 'SALES']]\n",
        "print(df_filtrado.head())\n",
        "\n"
      ],
      "metadata": {
        "colab": {
          "base_uri": "https://localhost:8080/"
        },
        "id": "cXOT1N_AFiQP",
        "outputId": "54807f6c-664a-4ea5-9c90-c3b077407bcf"
      },
      "execution_count": 89,
      "outputs": [
        {
          "output_type": "stream",
          "name": "stdout",
          "text": [
            "   ORDERNUMBER  QUANTITYORDERED    SALES\n",
            "2        10134               41  3884.34\n",
            "3        10145               45  3746.70\n",
            "4        10159               49  5205.27\n",
            "5        10168               36  3479.76\n",
            "7        10188               48  5512.32\n"
          ]
        }
      ]
    },
    {
      "cell_type": "code",
      "source": [
        "# Usando .iloc: Pegar as 5 primeiras linhas e colunas 0 a 2\n",
        "# Verifica a quantidade total de itens pedidos por cada país\n",
        "\n",
        "\n",
        "df_iloc = df.iloc[:5, :3]\n",
        "print(df_iloc)\n"
      ],
      "metadata": {
        "colab": {
          "base_uri": "https://localhost:8080/"
        },
        "id": "GN7LhLwUFmm1",
        "outputId": "25fb1dae-d483-430d-9685-931c0f442926"
      },
      "execution_count": 93,
      "outputs": [
        {
          "output_type": "stream",
          "name": "stdout",
          "text": [
            "   ORDERNUMBER  QUANTITYORDERED  PRICEEACH\n",
            "0        10107               30      95.70\n",
            "1        10121               34      81.35\n",
            "2        10134               41      94.74\n",
            "3        10145               45      83.26\n",
            "4        10159               49     100.00\n"
          ]
        }
      ]
    },
    {
      "cell_type": "code",
      "source": [
        "#Calcula a quantidade total de itens pedidos por país e exibe os 5 países com o maior volume\n",
        "df_categoria = df.groupby('COUNTRY')['QUANTITYORDERED'].sum().sort_values(ascending=False).head(5)\n",
        "print(df_categoria)\n",
        "\n"
      ],
      "metadata": {
        "colab": {
          "base_uri": "https://localhost:8080/"
        },
        "id": "oqqZkv8dFn_H",
        "outputId": "7c1f1af5-5dc6-4de1-fa15-9d783c404c04"
      },
      "execution_count": 148,
      "outputs": [
        {
          "output_type": "stream",
          "name": "stdout",
          "text": [
            "COUNTRY\n",
            "USA          35659\n",
            "Spain        12429\n",
            "France       11090\n",
            "Australia     6246\n",
            "UK            5013\n",
            "Name: QUANTITYORDERED, dtype: int64\n"
          ]
        }
      ]
    },
    {
      "cell_type": "markdown",
      "source": [
        "| País         | Quantidade de Pedidos |\n",
        "|--------------|---------------|\n",
        "| USA          | 35.659        |\n",
        "| Spain        | 12.429        |\n",
        "| France       | 11.090        |\n",
        "| Australia    | 6.246         |\n",
        "| UK           | 5.013         |"
      ],
      "metadata": {
        "id": "rpi_875yHUVn"
      }
    },
    {
      "cell_type": "markdown",
      "source": [
        "#Insights\n",
        "Visualizamos os pedidos com quantidade superior a 35 unidades, valores de vendas elevados, e alto faturamento. Os cinco primeiros registros completos revelam uma progressão entre quantidade de pedidos e preço unitário. Vemos os EUA com maior presença em quantidade de pedidos."
      ],
      "metadata": {
        "id": "AZPJlp3BnB0g"
      }
    },
    {
      "cell_type": "markdown",
      "source": [
        "#8. 📊 Visualização de Dados"
      ],
      "metadata": {
        "id": "9FCFzHEBH_bB"
      }
    },
    {
      "cell_type": "code",
      "source": [
        "#Agrupa os dados pelo MONTH_ID e, para cada mês, calcula a soma da QUANTITYORDERED.\n",
        "#Percebe-se um pico de Pedidos entre os meses 9 e 11, seguido de queda no mês 12\n",
        "#Os meses 6 e 7 apresentam os volumes de Pedidos mais baixo\n",
        "\n",
        "if 'MONTH_ID' in df.columns and 'QUANTITYORDERED' in df.columns:\n",
        "    df.groupby('MONTH_ID')['QUANTITYORDERED'].sum().sort_index().plot(kind='line')\n",
        "    plt.title('Evolução no tempo')\n",
        "    plt.xlabel('MONTH_ID')\n",
        "    plt.ylabel('QUANTITYORDERED')\n",
        "    plt.show()"
      ],
      "metadata": {
        "colab": {
          "base_uri": "https://localhost:8080/",
          "height": 472
        },
        "id": "qGC_e8fMIG5s",
        "outputId": "bbb6bffb-d91a-49b3-b978-a360bfc26d66"
      },
      "execution_count": 127,
      "outputs": [
        {
          "output_type": "display_data",
          "data": {
            "text/plain": [
              "<Figure size 640x480 with 1 Axes>"
            ],
            "image/png": "[encoded data removed]"
          },
          "metadata": {}
        }
      ]
    },
    {
      "cell_type": "code",
      "source": [
        "#Agrupa os dados pela coluna COUNTRY e calcula a soma da QUANTITYORDERED\n",
        "#USA, seguido de Spain e France em são top 3 em quantidade total de pedidos, com maior volume\n",
        "#Australia e UK apresentam volumes menores em comparação\n",
        "\n",
        "if 'COUNTRY' in df.columns and 'QUANTITYORDERED' in df.columns:\n",
        "\n",
        "\n",
        "\n",
        "    df.groupby('COUNTRY')['QUANTITYORDERED'].sum().sort_values(ascending=False).head(5).plot(kind='bar')\n",
        "    plt.title('Total por categoria')\n",
        "    plt.xlabel('COUNTRY')\n",
        "    plt.ylabel('QUANTITYORDERED')\n",
        "    plt.xticks(rotation=0)\n",
        "    plt.show()"
      ],
      "metadata": {
        "colab": {
          "base_uri": "https://localhost:8080/",
          "height": 472
        },
        "id": "li6kWrp3H7kK",
        "outputId": "2a4f5168-4237-438b-cd5d-639e411f5822"
      },
      "execution_count": 111,
      "outputs": [
        {
          "output_type": "display_data",
          "data": {
            "text/plain": [
              "<Figure size 640x480 with 1 Axes>"
            ],
            "image/png": "[encoded data removed]"
          },
          "metadata": {}
        }
      ]
    },
    {
      "cell_type": "code",
      "source": [
        "#Visualiza a relação ou correlação entre duas variáveis QUANTITYORDERED (eixo X) e SALES (eixo Y)\n",
        "#Mostra que vendas não crescem de forma linear, o que pode ser explicado pelos preços dos itens\n",
        "#Vemos um padrão de vendas bem expressivo\n",
        "\n",
        "if 'QUANTITYORDERED' in df.columns and 'SALES' in df.columns:\n",
        "    plt.scatter(df['QUANTITYORDERED'], df['SALES'])\n",
        "    plt.title('Dispersão')\n",
        "    plt.xlabel('QUANTITYORDERED')\n",
        "    plt.ylabel('SALES')\n",
        "    plt.show()"
      ],
      "metadata": {
        "colab": {
          "base_uri": "https://localhost:8080/",
          "height": 472
        },
        "id": "2RPxndm_IHHg",
        "outputId": "3debdf06-893e-4be5-856a-e296ea8da09f"
      },
      "execution_count": 128,
      "outputs": [
        {
          "output_type": "display_data",
          "data": {
            "text/plain": [
              "<Figure size 640x480 with 1 Axes>"
            ],
            "image/png": "[encoded data removed]"
          },
          "metadata": {}
        }
      ]
    },
    {
      "cell_type": "markdown",
      "source": [
        "#9. 📌 Relatório e Insights"
      ],
      "metadata": {
        "id": "elSF6dc8VX6l"
      }
    },
    {
      "cell_type": "markdown",
      "source": [
        "A base utilizada possui um total de 2.823 registros e 27 colunas. Em df.head(), possuímos dados de pedidos, valores de vendas, datas, códigos postais, status de envio de produtos e muito mais. Dos tipos de dados, temos 16 atributos object, 7 int64, 4 float64, configurando que os campos são categorias, datas e números.\n",
        "\n",
        "\n",
        "\n",
        "\n",
        "Na observação, em lista, dos 5 primeiros registros, percebe-se a forte presença dos EUA na clientela. No dicionário, verificamos a relação cliente x País, e em Tupla, observamos a relação PAÍS/ESTADO/CÓDIGO POSTAL.\n",
        "\n",
        "\n",
        "\n",
        "\n",
        " O cálculo da média é utilizado como referência para condicionar os valores das vendas como alto, intermediário e baixo. A soma das transações totaliza 199 unidades, sugerindo que o conjunto acumula uma quantidade significativa, tendo somente 2 dos 5 primeiros itens abaixo da média de pedidos.\n",
        "\n",
        "\n",
        "\n",
        "\n",
        "Visualização de possível discrepância de valores, mas no item 4, ordem 10159, pode indicar descontos aplicados não referidos, outros valores como: frete, impostos e outros adendos como inconsistência ou erros de dados e registro.\n",
        "\n",
        "\n",
        "\n",
        "\n",
        "A análise com Python e NumPy revela que o valor médio de cada venda é de R$ 3.553,89. E cálculos em massa, como simular acréscimos (adicionando 10 unidades a cada venda) e realizar análises estatísticas (elevando os valores ao quadrado) de forma rápida e direta.\n",
        "\n",
        "\n",
        "\n",
        "\n",
        "Visualizamos os pedidos com quantidade superior a 35 unidades, valores de vendas elevados e alto faturamento. Os cinco primeiros registros completos revelam uma progressão entre quantidade de pedidos e preço unitário. Vemos os EUA com maior presença em quantidade de pedidos."
      ],
      "metadata": {
        "id": "85aEVm3Lt-yp"
      }
    },
    {
      "cell_type": "markdown",
      "source": [
        "Algums funções foram adicionadas para melhor visualizar dados:\n",
        "\n",
        ">print(df.dtypes.value_counts())\n",
        "\n",
        ">.sort_values(ascending=False).head(5)\n",
        "\n",
        ">plt.xticks(rotation=0)\n",
        "\n",
        ">df_categoria = df.groupby('COUNTRY')['QUANTITYORDERED'].sum().sort_values\n",
        "\n",
        ">(ascending=False).head(5)\n",
        "\n",
        "\n",
        ">print(df_categoria)\n"
      ],
      "metadata": {
        "id": "xm1TiZR7Vgtv"
      }
    }
  ]
}